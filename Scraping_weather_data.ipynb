{
  "nbformat": 4,
  "nbformat_minor": 0,
  "metadata": {
    "colab": {
      "provenance": [],
      "authorship_tag": "ABX9TyOJZXQE6C3ZP8yPAAou2kAl",
      "include_colab_link": true
    },
    "kernelspec": {
      "name": "python3",
      "display_name": "Python 3"
    },
    "language_info": {
      "name": "python"
    }
  },
  "cells": [
    {
      "cell_type": "markdown",
      "metadata": {
        "id": "view-in-github",
        "colab_type": "text"
      },
      "source": [
        "<a href=\"https://colab.research.google.com/github/Lav168/Scraping-weather-data-using-Python/blob/main/Scraping_weather_data.ipynb\" target=\"_parent\"><img src=\"https://colab.research.google.com/assets/colab-badge.svg\" alt=\"Open In Colab\"/></a>"
      ]
    },
    {
      "cell_type": "code",
      "execution_count": null,
      "metadata": {
        "colab": {
          "base_uri": "https://localhost:8080/"
        },
        "id": "RaXWdIINEv_C",
        "outputId": "4bcf8226-1f8d-41b0-edb6-a3407e814f3c"
      },
      "outputs": [
        {
          "output_type": "stream",
          "name": "stdout",
          "text": [
            "Requirement already satisfied: bs4 in /usr/local/lib/python3.10/dist-packages (0.0.2)\n",
            "Requirement already satisfied: beautifulsoup4 in /usr/local/lib/python3.10/dist-packages (from bs4) (4.12.3)\n",
            "Requirement already satisfied: soupsieve>1.2 in /usr/local/lib/python3.10/dist-packages (from beautifulsoup4->bs4) (2.6)\n"
          ]
        }
      ],
      "source": [
        "pip install bs4\n"
      ]
    },
    {
      "cell_type": "code",
      "source": [
        "pip install requests"
      ],
      "metadata": {
        "colab": {
          "base_uri": "https://localhost:8080/"
        },
        "id": "kbXqDg6kFKHc",
        "outputId": "a417c872-8a06-4e22-fc32-6ab1163a6e1b"
      },
      "execution_count": null,
      "outputs": [
        {
          "output_type": "stream",
          "name": "stdout",
          "text": [
            "Requirement already satisfied: requests in /usr/local/lib/python3.10/dist-packages (2.32.3)\n",
            "Requirement already satisfied: charset-normalizer<4,>=2 in /usr/local/lib/python3.10/dist-packages (from requests) (3.3.2)\n",
            "Requirement already satisfied: idna<4,>=2.5 in /usr/local/lib/python3.10/dist-packages (from requests) (3.7)\n",
            "Requirement already satisfied: urllib3<3,>=1.21.1 in /usr/local/lib/python3.10/dist-packages (from requests) (2.0.7)\n",
            "Requirement already satisfied: certifi>=2017.4.17 in /usr/local/lib/python3.10/dist-packages (from requests) (2024.7.4)\n"
          ]
        }
      ]
    },
    {
      "cell_type": "code",
      "source": [
        "import smtplib"
      ],
      "metadata": {
        "id": "dd2V9QfLFsd8"
      },
      "execution_count": null,
      "outputs": []
    },
    {
      "cell_type": "code",
      "source": [
        "pip install schedule"
      ],
      "metadata": {
        "colab": {
          "base_uri": "https://localhost:8080/"
        },
        "id": "uRqao8HIFxwC",
        "outputId": "af7ca74f-95fb-4f6a-f55c-e901e06c341e"
      },
      "execution_count": null,
      "outputs": [
        {
          "output_type": "stream",
          "name": "stdout",
          "text": [
            "Collecting schedule\n",
            "  Downloading schedule-1.2.2-py3-none-any.whl.metadata (3.8 kB)\n",
            "Downloading schedule-1.2.2-py3-none-any.whl (12 kB)\n",
            "Installing collected packages: schedule\n",
            "Successfully installed schedule-1.2.2\n"
          ]
        }
      ]
    },
    {
      "cell_type": "code",
      "source": [
        "import schedule\n",
        "import smtplib\n",
        "import requests\n",
        "from bs4 import BeautifulSoup\n"
      ],
      "metadata": {
        "id": "7ZHHOcdYF332"
      },
      "execution_count": null,
      "outputs": []
    },
    {
      "cell_type": "code",
      "source": [
        "city = \"Chennai\"\n",
        "url = \"https://www.google.com/search?q=\" + \"weather\" + city\n",
        "html = requests.get(url).content"
      ],
      "metadata": {
        "id": "saf0pAYaGCNN"
      },
      "execution_count": null,
      "outputs": []
    },
    {
      "cell_type": "code",
      "source": [
        "soup = BeautifulSoup(html,\n",
        "\t\t\t\t\t'html.parser')\n",
        "temperature = soup.find(\n",
        "'div', attrs={'class': 'BNeawe iBp4i AP7Wnd'}).text\n",
        "time_sky = soup.find(\n",
        "'div', attrs={'class': 'BNeawe tAd8D AP7Wnd'}).text\n",
        "\n",
        "# formatting data\n",
        "sky = time_sky.split('\\n')[1]\n"
      ],
      "metadata": {
        "id": "3QztPNMvGWvk"
      },
      "execution_count": null,
      "outputs": []
    },
    {
      "cell_type": "code",
      "source": [
        "if sky == \"Rainy\" or sky == \"Rain And Snow\" or sky == \"Showers\" or sky == \"Haze\" or sky == \"Cloudy\":\n",
        "\tsmtp_object = smtplib.SMTP('smtp.gmail.com', 587)\n"
      ],
      "metadata": {
        "id": "DZGnR3-MGfP6"
      },
      "execution_count": null,
      "outputs": []
    },
    {
      "cell_type": "code",
      "source": [
        "# Start TLS for security\n",
        "# Ensure connection is established before calling starttls()\n",
        "smtp_object = smtplib.SMTP('smtp.gmail.com', 587)\n",
        "smtp_object.ehlo() # Send EHLO command to initiate handshake\n",
        "smtp_object.starttls()\n",
        "\n",
        "# Authentication\n",
        "smtp_object.login(\"lavanyaraja146@gmail.com\", \"xfui lzrk cpmx zexu\")\n",
        "\n",
        "subject = \"Umbrella Reminder\"\n",
        "body = f\"Take an umbrella before leaving the house.\\nWeather condition for today is {sky}, and temperature is {temperature} in {city}.\\nHave a nice day!\"\n",
        "msg = f\"Subject:{subject}\\n\\n{body}\\n\\nRegards,\\nLavanya\".encode('utf-8')\n",
        "\n",
        "# Sending the mail\n",
        "smtp_object.sendmail(\"lavanyaraja146@gmail.com\", \"thrishajawahar@gmail.com\", msg)\n",
        "\n",
        "# Terminating the session\n",
        "smtp_object.quit()\n",
        "\n",
        "print(\"Email Sent!\")"
      ],
      "metadata": {
        "colab": {
          "base_uri": "https://localhost:8080/"
        },
        "id": "GRPwhM3MK39k",
        "outputId": "95f71b69-399d-4a24-e337-3050179d690b"
      },
      "execution_count": null,
      "outputs": [
        {
          "output_type": "stream",
          "name": "stdout",
          "text": [
            "Email Sent!\n"
          ]
        }
      ]
    },
    {
      "cell_type": "code",
      "source": [],
      "metadata": {
        "id": "KX2sA80SRa-l"
      },
      "execution_count": null,
      "outputs": []
    }
  ]
}